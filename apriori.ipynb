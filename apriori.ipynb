{
 "cells": [
  {
   "cell_type": "code",
   "execution_count": 39,
   "metadata": {},
   "outputs": [
    {
     "name": "stdout",
     "output_type": "stream",
     "text": [
      "Enter number of transactions:4\n",
      "Enter comma separated transaction:\n",
      "1,3,4\n",
      "Enter comma separated transaction:\n",
      "2,3,5\n",
      "Enter comma separated transaction:\n",
      "1,2,3,5\n",
      "Enter comma separated transaction:\n",
      "2,5\n",
      "[['1', '3', '4'], ['2', '3', '5'], ['1', '2', '3', '5'], ['2', '5']]\n"
     ]
    }
   ],
   "source": [
    "from numpy import *\n",
    "dataset=[]\n",
    "n=int(input(\"Enter number of transactions:\"))\n",
    "for i in range (n):\n",
    "    print('Enter comma separated transaction:')\n",
    "    line=input()\n",
    "    dataset.append(line.split(','))\n",
    "print(dataset)    "
   ]
  },
  {
   "cell_type": "code",
   "execution_count": 40,
   "metadata": {},
   "outputs": [],
   "source": [
    "def createC1(dataset):\n",
    "    C1=[]\n",
    "    for transaction in dataset:\n",
    "        for item in transaction:\n",
    "            if not [item] in C1:\n",
    "                C1.append([item])\n",
    "    C1.sort()\n",
    "    return list(map(frozenset,C1))\n",
    "\n",
    "def scanD(D,Ck,minSupport):\n",
    "    ssCnt={}\n",
    "    for tid in D:\n",
    "        for can in Ck:\n",
    "            if can.issubset(tid):\n",
    "                if not can in ssCnt:ssCnt[can]=1\n",
    "                else:ssCnt[can]+=1\n",
    "    numItems=float(len(D))\n",
    "    retList=[]\n",
    "    supportData={}\n",
    "    for key in ssCnt:\n",
    "        support=ssCnt[key]#removed division by numItems\n",
    "        if support>=minSupport:\n",
    "            retList.insert(0,key)\n",
    "        supportData[key]=support\n",
    "    return retList,supportData"
   ]
  },
  {
   "cell_type": "code",
   "execution_count": 42,
   "metadata": {},
   "outputs": [
    {
     "data": {
      "text/plain": [
       "[{'1', '3', '4'}, {'2', '3', '5'}, {'1', '2', '3', '5'}, {'2', '5'}]"
      ]
     },
     "execution_count": 42,
     "metadata": {},
     "output_type": "execute_result"
    }
   ],
   "source": [
    "D=list(map(set,dataset))#make dataset from list to set\n",
    "D"
   ]
  },
  {
   "cell_type": "code",
   "execution_count": 41,
   "metadata": {},
   "outputs": [
    {
     "data": {
      "text/plain": [
       "[frozenset({'1'}),\n",
       " frozenset({'2'}),\n",
       " frozenset({'3'}),\n",
       " frozenset({'4'}),\n",
       " frozenset({'5'})]"
      ]
     },
     "execution_count": 41,
     "metadata": {},
     "output_type": "execute_result"
    }
   ],
   "source": [
    "C1=createC1(dataset)\n",
    "C1"
   ]
  },
  {
   "cell_type": "code",
   "execution_count": 43,
   "metadata": {},
   "outputs": [
    {
     "data": {
      "text/plain": [
       "[frozenset({'5'}), frozenset({'2'}), frozenset({'3'}), frozenset({'1'})]"
      ]
     },
     "execution_count": 43,
     "metadata": {},
     "output_type": "execute_result"
    }
   ],
   "source": [
    "L1,suppDat0 = scanD(D,C1,2)\n",
    "L1"
   ]
  },
  {
   "cell_type": "code",
   "execution_count": 44,
   "metadata": {},
   "outputs": [],
   "source": [
    "def aprioriGen(Lk,k):\n",
    "    retList=[]\n",
    "    for i in range(len(Lk)):\n",
    "        for j in range(i+1,len(Lk)):\n",
    "            L1=list(Lk[i])[:k-2]\n",
    "            L2=list(Lk[j])[:k-2]\n",
    "            L1.sort()\n",
    "            L2.sort()\n",
    "            if L1==L2:\n",
    "                retList.append(Lk[i] | Lk[j])\n",
    "    return retList"
   ]
  },
  {
   "cell_type": "code",
   "execution_count": 45,
   "metadata": {},
   "outputs": [],
   "source": [
    "def apriori(dataSet,minSupport):\n",
    "    C1=createC1(dataset)\n",
    "    D=list(map(set,dataset))\n",
    "    L1,supportData=scanD(D,C1,minSupport)\n",
    "    L=[L1]\n",
    "    k=2\n",
    "    while(len(L[k-2])>0):\n",
    "        Ck=aprioriGen(L[k-2],k)\n",
    "        Lk,supK = scanD(D,Ck,minSupport)#Scan DB to get Lk\n",
    "        supportData.update(supK)\n",
    "        L.append(Lk)\n",
    "        k+=1\n",
    "    return L,supportData"
   ]
  },
  {
   "cell_type": "code",
   "execution_count": 46,
   "metadata": {},
   "outputs": [
    {
     "data": {
      "text/plain": [
       "[[frozenset({'5'}), frozenset({'2'}), frozenset({'3'}), frozenset({'1'})],\n",
       " [frozenset({'2', '3'}),\n",
       "  frozenset({'3', '5'}),\n",
       "  frozenset({'2', '5'}),\n",
       "  frozenset({'1', '3'})],\n",
       " [frozenset({'2', '3', '5'})],\n",
       " []]"
      ]
     },
     "execution_count": 46,
     "metadata": {},
     "output_type": "execute_result"
    }
   ],
   "source": [
    "L,suppData=apriori(dataset,2)\n",
    "L#first part of answer got, "
   ]
  },
  {
   "cell_type": "code",
   "execution_count": null,
   "metadata": {},
   "outputs": [],
   "source": [
    "aprioriGen(L[0],2)#using aprioriGen, basically forms combinations"
   ]
  },
  {
   "cell_type": "markdown",
   "metadata": {},
   "source": [
    "# Now to generate rules and calculate confidence"
   ]
  },
  {
   "cell_type": "code",
   "execution_count": 48,
   "metadata": {},
   "outputs": [],
   "source": [
    "def calcConf(freqSet,H,supportData,brl,minConf):\n",
    "    prunedH=[]\n",
    "    for conseq in H:\n",
    "        conf=supportData[freqSet]/supportData[freqSet - conseq]\n",
    "        if conf >= minConf:\n",
    "            print(freqSet-conseq,'-->',conseq,'conf:',conf)\n",
    "            brl.append((freqSet-conseq,conseq,conf))\n",
    "            prunedH.append(conseq)\n",
    "    return prunedH"
   ]
  },
  {
   "cell_type": "code",
   "execution_count": 49,
   "metadata": {},
   "outputs": [],
   "source": [
    "def rulesFromConseq(freqSet,H,supportData,brl,minConf):\n",
    "    m=len(H[0])\n",
    "    if(len(freqSet) > (m+1)):\n",
    "        Hmp1 = aprioriGen(H,m+1)\n",
    "        Hmp1 = calcConf(freqSet,Hmp1,supportData,brl,minConf)\n",
    "        if (len(Hmp1) > 1):\n",
    "            rulesFromConseq(freqSet,Hmp1,supportData,brl,minConf)"
   ]
  },
  {
   "cell_type": "code",
   "execution_count": 66,
   "metadata": {},
   "outputs": [],
   "source": [
    "def generateRules(L,supportData,minConf):\n",
    "    bigRuleList=[]\n",
    "    for i in range(1,len(L)):\n",
    "        print('i=',i)\n",
    "        for freqSet in L[i]:\n",
    "            print('freqSet=',freqSet)\n",
    "            H1=[frozenset([item]) for item in freqSet]\n",
    "            if(i > 1):\n",
    "                rulesFromConseq(freqSet,H1,supportData,bigRuleList,minConf)\n",
    "            else:\n",
    "                calcConf(freqSet,H1,supportData,bigRuleList,minConf)\n",
    "    return bigRuleList\n",
    "            "
   ]
  },
  {
   "cell_type": "code",
   "execution_count": 68,
   "metadata": {},
   "outputs": [
    {
     "name": "stdout",
     "output_type": "stream",
     "text": [
      "i= 1\n",
      "freqSet= frozenset({'2', '3'})\n",
      "freqSet= frozenset({'3', '5'})\n",
      "freqSet= frozenset({'2', '5'})\n",
      "frozenset({'5'}) --> frozenset({'2'}) conf: 1.0\n",
      "frozenset({'2'}) --> frozenset({'5'}) conf: 1.0\n",
      "freqSet= frozenset({'3', '1'})\n",
      "frozenset({'1'}) --> frozenset({'3'}) conf: 1.0\n",
      "i= 2\n",
      "freqSet= frozenset({'2', '3', '5'})\n",
      "i= 3\n",
      "rules=\n",
      " [(frozenset({'5'}), frozenset({'2'}), 1.0), (frozenset({'2'}), frozenset({'5'}), 1.0), (frozenset({'1'}), frozenset({'3'}), 1.0)]\n"
     ]
    }
   ],
   "source": [
    "L,suppData = apriori(dataset,2)\n",
    "rules=generateRules(L,suppData,minConf=0.7)\n",
    "print('rules=\\n',rules)"
   ]
  }
 ],
 "metadata": {
  "kernelspec": {
   "display_name": "Python 3",
   "language": "python",
   "name": "python3"
  },
  "language_info": {
   "codemirror_mode": {
    "name": "ipython",
    "version": 3
   },
   "file_extension": ".py",
   "mimetype": "text/x-python",
   "name": "python",
   "nbconvert_exporter": "python",
   "pygments_lexer": "ipython3",
   "version": "3.6.5"
  }
 },
 "nbformat": 4,
 "nbformat_minor": 2
}
